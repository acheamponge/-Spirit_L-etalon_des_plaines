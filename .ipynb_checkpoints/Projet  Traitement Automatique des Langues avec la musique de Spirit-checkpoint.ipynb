{
 "cells": [
  {
   "cell_type": "markdown",
   "metadata": {},
   "source": [
    "# Projet  Traitement Automatique des Langues"
   ]
  },
  {
   "cell_type": "markdown",
   "metadata": {},
   "source": [
    "# Spirit, L'etalon des plaines"
   ]
  },
  {
   "cell_type": "code",
   "execution_count": null,
   "metadata": {},
   "outputs": [],
   "source": []
  },
  {
   "cell_type": "markdown",
   "metadata": {},
   "source": [
    "![SegmentLocal](img/1.gif \"segment\")\n"
   ]
  },
  {
   "cell_type": "code",
   "execution_count": 18,
   "metadata": {},
   "outputs": [
    {
     "name": "stdout",
     "output_type": "stream",
     "text": [
      "['/Cheese/Bienvenue_Chez_Moi.txt', '/Cheese/Cheese.txt', '/Cheese/Dodo.txt', '/Cheese/Housellelujah.txt', '/Cheese/Je_cours.txt', '/Cheese/Peace_or_Violence.txt', '/Cheese/Rail_de_musique.txt', '/Cheese/Summertime.txt', '/Cheese/Te_Quiero.txt', '/Defiler/defiler.txt', '/Racine Carrée/Ave_Cesaria.txt', '/Racine Carrée/avf.txt', '/Racine Carrée/Batard.txt', '/Racine Carrée/Carmen.txt', '/Racine Carrée/Formidable.txt', '/Racine Carrée/Humain_a_leau.txt', '/Racine Carrée/Moules_Frites.txt', '/Racine Carrée/Papaoutai.txt', \"/Racine Carrée/Quand_c'est.txt\", '/Racine Carrée/Sommeil.txt', '/Racine Carrée/Ta_fete.txt', '/Racine Carrée/Tous_les_memes.txt']\n"
     ]
    }
   ],
   "source": [
    "import os             \n",
    "folder = \"./data\"\n",
    "folders = os.listdir(folder)\n",
    "#print(folders)\n",
    "\n",
    "txt_files = []\n",
    "\n",
    "for i in folders:\n",
    "    for j in (os.listdir(folder+'/'+i)):\n",
    "        txt_files.append('/'+i+'/'+j)\n",
    "print(txt_files)"
   ]
  },
  {
   "cell_type": "code",
   "execution_count": 19,
   "metadata": {},
   "outputs": [],
   "source": [
    "import pandas as pd\n",
    "corpus = []\n",
    "\n",
    "for i in txt_files:\n",
    "    with open(folder+i,encoding='utf8') as f_input:\n",
    "        corpus.append(f_input.read())"
   ]
  },
  {
   "cell_type": "code",
   "execution_count": 23,
   "metadata": {},
   "outputs": [],
   "source": [
    "#print(corpus)"
   ]
  },
  {
   "cell_type": "markdown",
   "metadata": {},
   "source": [
    "![SegmentLocal](img/2.gif \"segment\")"
   ]
  },
  {
   "cell_type": "code",
   "execution_count": 24,
   "metadata": {},
   "outputs": [],
   "source": [
    "words_list = []\n",
    "\n",
    "for phrase in corpus:\n",
    "    words_list.append((str(phrase)).split())\n",
    "#print(words_list)"
   ]
  },
  {
   "cell_type": "code",
   "execution_count": 26,
   "metadata": {},
   "outputs": [],
   "source": [
    "words_corpus = []\n",
    "for words in words_list:\n",
    "    for word in words:\n",
    "        words_corpus.append(word)\n",
    "#print(words_corpus)"
   ]
  },
  {
   "cell_type": "code",
   "execution_count": 27,
   "metadata": {},
   "outputs": [
    {
     "name": "stdout",
     "output_type": "stream",
     "text": [
      "7891\n"
     ]
    }
   ],
   "source": [
    "from collections import Counter\n",
    "\n",
    "word_count = Counter(words_corpus)\n",
    "a = 0\n",
    "#print(word_count.most_common())\n",
    "\n",
    "for i in word_count.most_common():\n",
    "    a += (i[1])\n",
    "print(a)\n",
    "#print(word_count.most_common())"
   ]
  },
  {
   "cell_type": "code",
   "execution_count": 28,
   "metadata": {},
   "outputs": [
    {
     "name": "stdout",
     "output_type": "stream",
     "text": [
      "1903\n"
     ]
    }
   ],
   "source": [
    "print(len(word_count.most_common()))"
   ]
  },
  {
   "cell_type": "markdown",
   "metadata": {},
   "source": [
    "![SegmentLocal](img/3.gif \"segment\")"
   ]
  },
  {
   "cell_type": "code",
   "execution_count": 29,
   "metadata": {},
   "outputs": [
    {
     "name": "stdout",
     "output_type": "stream",
     "text": [
      "/Cheese/Bienvenue_Chez_Moi Lyrics Summary\n",
      "[Couplet 1] Bienvenue chez moi. Ces quatre murs en plastique Sont pleins de papier, de tas de Bic Des tas de feuilles à moitié mortes À moitié bourgeons, à moitié fortes Un jour vertes, un jour brunes Noires, jaunes, rouges et un jour plumes D'humeur légère, d'humeur profonde D'humeur amère Bienvenue chez moi D'humeur vénère, d'humeur sainte Mais aussi vrai donc vulgaire À la fois brute, à la fois pure À la fois laxiste, à la fois dure À la voix basse, à la voix haute À la voix douce et à la voix rauque À la fois Jazz, à la fois Rock, ou Electro [Refrain] Bienvenue chez moi. Bienvenue chez moi. Bienvenue chez moi. Bienvenue chez moi. Comme moi, comme toi, comme nous Des hommes-chiens devenus hommes-loups Des femmes-hyènes, voulant être belles Et encore plus superbes à se rendre fous. À se rendre folles, à se rendre connes, à se vendre bonnes, à faire toutes comme Et ces imbéciles, et bien courent toujours, et c'est ça l'amour. [Refrain] Bienvenue chez moi. Bienvenue chez moi.\n",
      "\n",
      "\n",
      "\n",
      "/Cheese/Cheese Lyrics Summary\n",
      "Depuis qu'j'suis p'tit, j'n'y ai rien compris Même si mes yeux me piquent, je vois Je les ferme et pri-e Et demande s'ils lui piquent des fois Même si les dieux n'existent pas J'les ai confondus avec, leurs semblables En costard cravate Ces marchands d'sable Qui promettent la Lune, sans connaitre la Terre Qui s'appellent adultes, mais si terre à terre Je souris, je sourirai, j'ai souri Ils ont cru qu'je riais, mais c'est même pas vrai Madame l'a dit, elle, \"il faut être poli\" Vas-y dis \"Cheese\", allez dis \"Cheese\" Pour le cliché, un peu pour s'cacher Mais sans humour noir, ou mauvais jeu de mot J'veux mourir de rire moi, mais sans sourire jaune Juste quand j'ai mal alors, pour que ça passe, d'accord Mais rien qu'pour ça Que cette fois, pour célébrer les morts Je souris, je sourirai, j'ai souri, je sourirai (x3)\n",
      "\n",
      "\n",
      "\n",
      "/Cheese/Dodo Lyrics Summary\n",
      "[Couplet 1] Eh petit bébé, il faudra se taire Ouais même si papa frappe ta mère Bah il faudra s'y fai-ai-ai-re Je sais qu'il fait mal Même quand il s'en va Mais c'est tout à fait normal Car papa a les plus gros bras Et si monsieur louche sur toi Il faudra se taire Pendant et après que monsieur te touchera Chut, chut Il faudra se taire C'est dur, ouais c'est dur, ouais Mais il faudra s'y faire [Refrain] Dodo, l'enfant Do Bébé dormira bien vite Dodo, l'enfant Do Bébé dormira (x2) [Couplet 2] Et puis tu verras Que maman n'est pas mieux que papa Car maman aime voir d'autres monsieurs Et même si c'est bien fait pour papa Tu n'aimeras pas Quand papa la tapera elle criera Car il se fâchera encore une fois Et il te fera ce qu'on lui faisait Et il te dira que c'est ta faute à toi Que les grands hommes mâles ne pleurent pas Mais qu'ils se battent, enfin battent leur femme Mais surtout leurs enfants et tu pleureras Oui c'est pas grave Oui tu oublieras Tu verras tu (le) feras . . . [Refrain] [Couplet 3] Plus que quelques fois dormir Pour que papa n'se lève pas Même si tu n'seras qu'un peu moins triste quand il disparaîtra Et encore beaucoup d'fois dormir Et enfin tu te reposeras Pas tout de suite mais dans longtemps, très longtemps tu dormiras Enfin tu dormiras (x2) Tu dormira-a-a-s Enfin tu dormira-a-a-a-a-s\n",
      "\n",
      "\n",
      "\n",
      "/Cheese/Housellelujah Lyrics Summary\n",
      "Au nom du rythme, et du chant Je crie House'llelujah, House'llelujah Bénie soit la musique et House'llelujah House'llelujah House'llelujah (x4) J'ai prié Dieu pendant des heures On m'a dit qu'il était trop vieux pour tous nos pleurs Qu'il est trop riche pour écouter nos pauvres cœurs Qu'il est trop pris, qu'il est femme, qu'il est homme Qu'il est hétéro, qu'il est gay Qu'il est chanteur, qu'il est DJ Qu'il est mort et qu'il est né Qu'il est même musulman ou juif Qu'il est bouddhiste et athée Au nom du rythme et des gens Je crie House'llelujah, House'llelujah Bénie soit la musique et House'llelujah House'llelujah House'llelujah C'est c'que je prie durant la nuit House'llelujah Lorsque j'élève mes mains au ciel House'llelujah Lorsque je saute et que je crie House'llelujah C'est l'éternel qui me le dit House'llelujah (x4) J'entends des voix Des voix de gens que je ne vois Si toi aussi tu les perçois C'est qu'tu avais perdu la foi C'est c'que je prie durant la nuit Lorsque j'élève mes mains au ciel Lorsque je saute et que je crie C'est l'éternel qui me le dit House'llelujah C'est c'que je prie durant la nuit House'llelujah Lorsque j'élève mes mains au ciel House'llelujah Lorsque je saute et que je crie House'llelujah C'est l'éternel qui me le dit House'llelujah (x8)\n",
      "\n",
      "\n",
      "\n",
      "/Cheese/Je_cours Lyrics Summary\n",
      "Ça y est j'viens d'y naître J'sais pas où je vais, ni où j'suis Mais tous veulent y être Quelque part, là-bas dans la vie Et là, je veux y mettre le pas Mais seule mon âme a l'accès Et je sais Que je n'ai aucun de ses abcès Plus léger qu'd'hab' Je m'envole et frôle le sol Où collent mes 4 pattes Chut, soudain ces vampes chantent Qu'une âme sait qu'celle-ci est absente Tous morts, marre de vivre Mais mes envies de vie chiffrent alors j’suis ivre De pensées d'nuances De chansons d'sens Et je ne sais sur quel pied j'danse Donc je pars Non-stop je pars En retard comme toujours c'est pourquoi Je (dimdamdam 5x) Je (dimdamdam 5x) Oui je (dimdamdam 5x) Et puis je (dimdamdam 5x) Ensuite je (dimdamdam 5x) Et après beh je (dimdamdam 5x) Oui je (dimdamdam 5x) Et je (dimdamdam 5x) Et je continue, de métro en neurones Les gens frôlent leur contenu Mais il m'en faudra plus qu'un temps Afin de couper la faim de ces tympans Car ils nous mangent crunk Ou en sauce Ils mangent les airs et laissent les sons Oui il m'fait peur ce public Je n'ai pas peur de la mort mais de l'oubli C'est bien c'que t'as fait Qu'on retient d'toi Mais surtout pas c'que t'avais En plus j'n'ai pas d'bol Donc heureusement, que je ne rêve pas d'toucher le pactole Car ce sera sans et m'connaissant J'brasserai des liasses avec ma malchance Tu vois pourquoi j'aimerais être porc, lion Ou homme et vivre sans remords Dimdamdam 10x (Ou être mort) Dimdamdam 10x Mais c'est plus fort que moi Et comme j'n'aime pas l'homme j'reste hors de moi Toujours ailleurs, j'fais du surplace Mais mes pensées courent et se surpassent Sur la lune très peu veulent m'y voir Et j'y retourne souvent pour qu'eux m'rejoignent Au lieu de passer le temps à m'nourrir Je fuis, pense, avant de mourir Je (dimdamdam 5x) Je (dimdamdam 5x) Oui je (dimdamdam 5x) Et puis je (dimdamdam 5x) Ensuite je (dimdamdam 5x) Et après beh je (dimdamdam x5) Oui je (dimdamdam 5x) Et je (dimdamdam 5x)\n",
      "\n",
      "\n",
      "\n",
      "/Cheese/Peace_or_Violence Lyrics Summary\n",
      "[Couplet 1] J'ai vu des gens tendre les bras et leurs deux doigts levés Leur majeur et leur index toujours en forme de \"V\" J'ai donc demandé ce que ce symbole pouvait signifier Et bien personne ô grand personne n'a pu me l'expliquer Serait-ce un signe de paix Ou bien le \"V\" de violence Quelqu'un sait ce qu'il avance Ou ce qu'il fait ? [Refrain] Peace Or Violence Qu'est-ce que j'en sais moi ? Peace Or Violence Qu'est-ce que j'en sais moi ? Peace Or Violence Serait-ce un signe de paix Ou bien le \"V\" de violence Quelqu'un sait ce qu'il avance Ou ce qu'il fait Serait-ce un signe de paix Ou bien le \"V\" de violence Quelqu'un sait ce qu'il avance Ou ce qu'il fait Peace Or Violence Qu'est-ce que j'en sais moi ? Peace Or Violence Qu'est-ce que j'en sais moi ? Peace Or Violence Qu'est-ce que j'en sais moi ? [Couplet 2] Et je m'suis dit qu'c'était la même parce qu'il fallait me faire une idée On m'a traité de pessimiste avec des mots à me suicider (Peace or Violence) Et j'ai insisté, et encore j'insisterai Mais apparemment, selon les grands, c'est long à exprimer Ça prendra le temps qu'il faudra le temps Mais finalement je le saurai Dans 5 ans ou 10 ans ou 20 ans Mais j'espère avant d'crever! [Refrain] Peace Or Violence Qu'est-ce que j'en sais moi ? Peace Or Violence Serait-ce un signe de paix Ou bien le \"V\" de violence Quelqu'un sait ce qu'il avance Ou ce qu'il fait Serait-ce un signe de paix Ou bien le \"V\" de violence Quelqu'un sait ce qu'il avance Ou ce qu'il fait\n",
      "\n",
      "\n",
      "\n",
      "/Cheese/Rail_de_musique Lyrics Summary\n",
      "[Couplet 1] Tous les matins Je prends un bol de musique Et une tasse aussi Ensuite j’enfile une partition Et je ferme ces boutons en la la do si si Je me dépêche Sinon je serai en retard Donc je termine et je file en bas Je saute dans ma caisse à infra-basses Et je roule à une vitesse de 100. 000 watts Je fuis, j’arrive, je bosse et Je mixe des coups de fil J’écris, compose et Répond à mes mails-odies Ensuite, je me nourris Du son dans la boîte à rythmes C’est la pause, celle de midi C’est l’heure de la mu-mu-musique [Refrain] Ouais c’est ma clope, mon shit Ma dose, ma weed Ma coke, mon speed Mon crack, ma musique Ma clope, mon shit Ma dose, ma weed Ma coke, mon speed Mon crack, ma musique Ouais c’est ma clope, mon shit Ma dose, ma weed Ma coke, mon speed Mon crack, ma musique Ma clope, mon shit Ma dose, ma weed Ma coke, mon speed Mon crack, ma musique [Couplet 2] Tous les après-midis Je reprends une tasse tout d’suite Je fais comme si J’envoyais des mails et des mails Et des mail-odies Pour que le temps passe vite Mais il ralentit Mon métronome me le dit Mais c’est ma tête qui le pense Ou bien qui le crie Qu’elle est pressée d’être repartie Mais cette fois-là Pédale à fond, en vain Ce sont les bouchons Qui marquent le tempo Au rythme des klaxons Et dans le fond, une chanson Qui rappelle le silence D’un soleil en decrescendo En crescendo demain J’espère qu’je m’lèverai tôt Pour que j’obtienne ma dose Que je m’injecte un micro Que j’en sois accroc Et que j’en crève Parce que j'me lèverai tôt Et je m’injecterai ma dose De micros, d’overproses Jusqu’à c’qu’ils soient mes rêves Jusqu’à c’qu’ils soient mes rêves [Refrain] Ma clope, mon shit Ma dose, ma weed Ma coke, mon speed Mon crack, ma musique Ma clope, mon shit Ma dose, ma weed Ma coke, mon speed Mon crack, ma musique C'est ma clope, mon shit Ma dose, ma weed Ma coke, mon speed Mon crack, ma musique Ma clope, mon shit Ma dose, ma weed Ma coke, mon speed Mon crack, ma musique Ouais c’est ma clope, mon shit Ma dose, ma weed Ma coke, mon speed Mon crack, ma musique Ma clope, mon shit Ma dose, ma weed Ma coke, mon speed Mon crack, ma musique [Outro] Ouais c’est ma clope, clope, mon shit Ma dose, ma weed Ma coke, coke, mon speed Mon crack, ma musique\n",
      "\n",
      "\n",
      "\n"
     ]
    },
    {
     "name": "stdout",
     "output_type": "stream",
     "text": [
      "/Cheese/Summertime Lyrics Summary\n",
      "[Couplet 1] Ça y est j'y suis J'ai dû me lever tôt pour Être ébloui et mon cancer de la peau J'ai bossé dur pour me le payer, et Là je sue car il faut en profiter, et J'espère que je n'serai pas déçu, non Car ça me stresse que quelque chose vienne gâcher mon [Refrain] Summertime, summertime, summertime, summertime Summertime, summertime, summertime, su-su-su-sum Summertime, summertime, summertime, summertime Summertime, summertime, summertime, su-su-su-sum [Couplet 2] Le ciel est bleu, ou plutôt gris-bleu Si on voyageait plus ce serait moins horrible À cent mètres à peine, certains survivent Je suis trop pensif, faudrait que j'écrive un livre sur mon [Pré-refrain] Summertime, summertime, summertime, summertime Summertime, summertime, summertime, su-su-su-sum [Pont] J'espère que je n'serai pas déçu, non Car ça me stresse que quelque chose vienne gâcher mon [Refrain] Summertime, summertime, summertime, summertime Summertime, summertime, summertime, su-su-su-sum Summertime, summertime, summertime, summertime Summertime, summertime, summertime, su-su-su-sum [Pont] J'espère que je n'serai pas déçu, non Car ça me stresse que quelque chose vienne gâcher mon [Refrain] Summertime, summertime, summertime, summertime Summertime, summertime, summertime, su-su-su-sum Summertime, summertime, summertime, summertime Summertime, summertime, summertime, su-su-su-sum [Outro] Summertime, summertime, summertime, summertime Summertime, summertime, summertime, su-su-su-sum Summertime, summertime, summertime, summertime Summertime, summertime, summertime, su-su-su-sum\n",
      "\n",
      "\n",
      "\n",
      "/Cheese/Te_Quiero Lyrics Summary\n",
      "[Couplet 1] Un jour je l’ai vue, j’ai tout de suite su que Qu’on allait devoir faire ces jeux absurdes Bijoux, bisous et le tralala, mots doux et coups bas Insultes, coups, etc, etc Non non ! Pas les miens mais les siens oui Notre enfant deviendra aussi le sien ensuite Enfin c’est le juge qui insistera, j’imagine Imagine-moi la télé sous le bras Et mes jeans sales et puis tout ça… [Refrain] Je l'aime à mort mais pour la vie On se dira \"oui\", à la vie, à la mort Et même en changeant d’avis Même en sachant qu’on a tort On ne changera pas la vie Donc comme tout le monde je vais en souffrir Jusqu’à la mort Te Quiero Je voudrais être son ombre Mais je la déteste Te Quiero Même au bout du monde Eh bien, qu’elle y reste Te Quiero Oui je l’aimais tellement Que je l’aime encore Te Quiero Je n’aurai pas le choix, non Jusqu’à la mort Te Quiero, te Quiero Jusqu’à la mort Te Quiero Te Quiero Te Quiero [Couplet 2] Un jour je la reverrai, je le saurai tout de suite Que ce sera reparti pour un tour de piste Un môme de plus, un nouveau juge, et puis leurs odeurs de pisse Ça deviendra juste une fois de plus plus répétitif Imagine-moi dans mes vieux jeans Mais cette fois-là, sans domicile Le moral bas, en haut d’un pont, d’une falaise ou d’un building J’aurai l’air d’un con quand je sauterai dans le vide [Pont] Je l’aime à mort Je l’aime à mort Je l’aime à mort Je l’aime à mort Je l’aime à mort Je l’aime à mort Je l’aime à mort Je l’aime à mort Je l’aime à mort Je l’aime à mort Je l’aime à mort [Refrain] Je l'aime à mort mais pour la vie On se dira \"oui\", à la vie, à la mort Et même en changeant d’avis Même en sachant qu’on a tort On ne changera pas la vie Donc comme tout le monde je vais en souffrir Jusqu’à la mort Te Quiero Je voudrais être son ombre Mais je la déteste Te Quiero Même au bout du monde Eh bien, qu’elle y reste Te Quiero Oui je l’aimais tellement Que je l’aime encore Te Quiero Je n’aurai pas le choix, non Jusqu’à la mort Te Quiero, te Quiero Jusqu’à la mort Te Quiero Te Quiero Te Quiero [Outro] Je l’aime à mort, je l’aime à mort. Je l’aime à mort, je l’aime à mort. Je l’aime à mort, je l’aime à mort. Je l’aime à mort.\n",
      "\n",
      "\n",
      "\n",
      "/Defiler/defiler Lyrics Summary\n",
      "[Verse 1] Elle défile On voit nos vies défiler Sur le fil On voit les années filer On essaye de filer droit Et on n’peut pas rembobiner Tout ces nœuds dans nos vies Si on pouvait les dénouer Alors dites-moi comment ça marche Dites-moi comment ça marche Dites-moi comment ça marche Dites-moi comment ça marche [Verse 2] De toute façon, on marche dans les rangs En groupe ou pas, on marche seul Qu’on l'veuille ou pas on a une valeur marchande, du plus jeune âge au linceul Marche ou crève mais marche droit, marche à l’envers ou ne marche pas Et le business, ça marche La santé, la famille et le reste, ça marche Dites-moi comment ça marche Dites-moi comment ça marche Je l'sais qu'ce n’est pas toujours comme on le veut Pas toujours comme on l'souhaite, mais je voudrais de vieux jours heureux Dites-moi comment ça marche [Verse 3] Je me demande après toutes ces années, encore et encore Je l'sais bien là où je ne vais pas, mais pas encore là où je voudrais aller Je me doute bien qu'si je me laisse aller, ça me ferait pas tort Je ferais bien de franchir le pas, en tout cas j'aurais tort de ne pas essayer Si j'voulais j'pourrais même m'arrêter, faire machine arrière D'ailleurs pourquoi les barrières, devraient être toujours dépassées Pourquoi j'ai peur d'être dépassé, par qui et par quoi ? Je ne sais pas mais c'que je sais, c'est que si j'ai peur c'est que j'suis pas l'dernier Comme si y'avait qu'une arrivée, qu'un seul endroit Qu'une seule route où on devrait aller, ça m'étonnerait Tout ce que j'sais c'est qu'je sais pas, j'y vais pas à pas Ouais pas à pas, ouais pas à pas [Bridge] J'y vais pas à pas (pas à pas, pas à pas, pas à pas) J'y vais pas à pas Tout ce que j'sais c'est qu'je sais pas J'y vais pas à pas (pas à pas, pas à pas, pas à pas) [Verse 4] La tête dans son téléphone Sans écouteurs, on la croirait folle Sans Google, on la croirait conne Et sans filtres, on la croirait bonne C'est trop facile de juger, c'est trop facile de juger Si son but dans la vie c'est de ressembler à Gigi Mais sans chirurgie c'est plus Gégé que Gigi Si l'école nous apprenait à faire des beaux selfies Pour mieux démarrer dans la vie, pour mieux démarrer dans la vie Sans savoir où on va, où on est Sans même savoir où on finirait Sans savoir où on est, où on va Sans même savoir où ça finira La tête dans son téléphone Sans écouteurs, on la croirait folle Sans Google, on la croirait conne Et sans filtres, on la croirait bonne [Verse 5] C'qui compte c'est c'qu'on a dans l'cœur, et c'qu'y a sur le compte L'argent ne fait pas le bonheur non, il sert à fabriquer des bombes Être belle quand on a de l'argent (on a de l'argent), c'est plus facile nan L'argent pourrit les gens et il les rend beau en même temps, c'est fascinant On n'est pas tous égaux face à la beauté, c'est si facile d'être gros quand on les voit défiler Petit, avant d'apprendre un métier Faut d'abord apprendre à retoucher la photo d'un CV [Outro] La tête dans son téléphone Sans écouteurs, on la croirait folle Sans Google, on la croirait conne Et sans filtres, on la croirait bonne\n",
      "\n",
      "\n",
      "\n",
      "/Racine Carrée/Ave_Cesaria Lyrics Summary\n",
      "[Couplet 1] Les effluves de rhum dans ta voix, me font tourner la tête Tu me fais danser du bout des doigts, comme tes cigarettes Immobile, comme à ton habitude, mais es-tu devenue muette ? Ou est-ce à cause des kilomètres, que tu ne me réponds plus. [Refrain] Evora, Evora, tu ne m'aimes plus ou quoi ? Evora, Evora, je te retrouverai, c'est sûr. [Couplet 2] Souviens-toi de la première fois, où nos regards s'étaient croisés Même que ton oeil disait merde à l'autre, surtout à moi Mais pourquoi moi, alors que les autres te trouvaient bien trop laide Peut-être que moi je suis trop bête, mais je sais t'écouter [Refrain] Evora, Evora, tu ne m'aimes plus ou quoi ? [Couplet 3] Ave Cesaria, chapeau pour la route à pieds Nue est, et nue était, Diva aux pieds nus, restera Et à vie Cesaria, et à la mort aussi Obrigado, tu embrigadas des millions de soldats dans ta patrie Donc garde à vous Cesaria, tu nous as tous quand même bien eus Ah tout le monde te croyait disparue, mais tu es revenue Sacrée Cesaria, quelle belle leçon d'humilité Malgré toutes ces bouteilles de rhum, tous les chemins mènent à la dignité [Refrain] Evora, Evora, tu ne m'aimes plus ou quoi ? [Chants] Oh Sodade. Sadadi di nha Cesaria.\n",
      "\n",
      "\n",
      "\n",
      "/Racine Carrée/avf Lyrics Summary\n",
      "[Couplet 2 : OrelSan et Maître Gims] Censé devenir un jeune cadre dynamique J'ai toujours été qu'un jeune stressé qui panique C'est marqué sur nos actes de naissance en italique On a tous un pied dans l'hôpital psychiatrique La nuit dans la bouteille, la journée dans les bouchons Depuis quand j'suis dans les pompes de Monsieur Tout-le-monde ? Pardonnez mon p'tit langage (oups), là, j'ai bu du dix ans d'âge (uh) Les médias font trop d'chantage, vous m'avez pris pour un esclave ? Debout, c'est l'heure du taff (oh), faut bien limiter la casse De-Demande à RaelSan (Huh), on va tous finir en cage [Couplet 3 : Stromae et Maître Gims] Riches, et malheureux, mais heureusement qu'on a l'euro C'est cool, nan ? Mais si coûteux que l'argent est à couper au couteau Et ça taffe pour dépenser d'arrache-pied et ça, pour qu'ça marche Cracher, cracher du cash et se saigner jusqu'à être balafré C'est pour les mecs avec qui j'ai grandi pendant des années sans pour autant qu'ils me renient par rapport au succès Tu sais bien, la vie, c'est paro, pas la peine d'en faire un fromage, demande aux tits-pe qui baraudent dans les tiers-quar J'ai rien de ssé-ca, je me casse, on se capte un de ces quatre Allez vous faire foutre, j'ai un match de foot [Couplet 2 : OrelSan et Maître Gims] Censé devenir un jeune cadre dynamique J'ai toujours été qu'un jeune stressé qui panique C'est marqué sur nos actes de naissance en italique On a tous un pied dans l'hôpital psychiatrique La nuit dans la bouteille, la journée dans les bouchons Depuis quand j'suis dans les pompes de Monsieur Tout-le-monde ? Pardonnez mon p'tit langage (oups), là, j'ai bu du dix ans d'âge (uh) Les médias font trop d'chantage, vous m'avez pris pour un esclave ? Debout, c'est l'heure du taff (oh), faut bien limiter la casse De-Demande à RaelSan (Huh), on va tous finir en cage [Couplet 3 : Stromae et Maître Gims] Riches, et malheureux, mais heureusement qu'on a l'euro C'est cool, nan ? Mais si coûteux que l'argent est à couper au couteau Et ça taffe pour dépenser d'arrache-pied et ça, pour qu'ça marche Cracher, cracher du cash et se saigner jusqu'à être balafré C'est pour les mecs avec qui j'ai grandi pendant des années sans pour autant qu'ils me renient par rapport au succès Tu sais bien, la vie, c'est paro, pas la peine d'en faire un fromage, demande aux tits-pe qui baraudent dans les tiers-quar J'ai rien de ssé-ca, je me casse, on se capte un de ces quatre Allez vous faire foutre, j'ai un match de foot\n",
      "\n",
      "\n",
      "\n",
      "/Racine Carrée/Batard Lyrics Summary\n",
      "[Intro] Ni l'un ni l'autre, je suis, j'étais et resterai moi Ni l'un ni l'autre, je suis, j'étais et resterai moi Ni l'un ni l'autre, je suis, j'étais et resterai moi Ni l'un ni l'autre, je suis, j'étais et resterai moi Ni l'un ni l'autre, je suis, j'étais et resterai moi Ni l'un ni l'autre, je suis, j'étais et resterai moi Sois t'es l'un ou soit t'es l'autre, t'es un homme ou bien tu péris Cultrice ou patéticienne, féministe ou la ferme Sois t'es macho, soit homo, mais t'es phobe ou sexuel Mécréant ou terroriste, t'es veuch' ou bien t'es barbu Conspirationniste, Illuminati, mythomaniste ou vendu ? Rien du tout, ou tout tout de suite, du tout au tout, indécis Han, tu changes d'avis imbécile ? Finalement t'es raciste, mais t'es blanc ou bien t'es marron, hein ? [Pont] Ni l'un, ni l'autre Bâtard, tu es Tu l'étais, et tu le restes ! [Refrain] Ni l'un ni l'autre, je suis, j'étais et resterai moi Ni l'un ni l'autre, je suis, j'étais et resterai moi Ni l'un ni l'autre, je suis, j'étais et resterai moi Ni l'un ni l'autre, je suis, j'étais et resterai moi [Couplet 2] Han, pardon, monsieur ne prend pas parti Monsieur n'est même pas raciste, vu que monsieur n'a pas de racines D'ailleurs monsieur a un ami noir, et même un ami Aryen Monsieur est mieux que tout ça, d'ailleurs tout ça, bah ça n'sert à rien Mieux vaut ne rien faire que de faire mal Les mains dans la merde ou bien dans les annales Trou du cul ou bien nombril du monde Monsieur se la pète plus haut que son trou d'balle Surtout pas de coups d'gueule, faut être calme, hein Faut être doux, faut être câlin Faut être dans le coup, faut être branchouille Pour être bien vu partout, hein [Pont] Ni l'un, ni l'autre Bâtard, tu es Tu l'étais, et tu le restes ! [Refrain] Ni l'un ni l'autre, je suis, j'étais et resterai moi Ni l'un ni l'autre, je suis, j'étais et resterai moi Ni l'un ni l'autre, je suis, j'étais et resterai moi Ni l'un ni l'autre, je suis, j'étais et resterai moi [Pont] Ni l'un, ni l'autre Bâtard, tu es, tu l'étais, et tu le restes !\n",
      "\n",
      "\n",
      "\n",
      "/Racine Carrée/Carmen Lyrics Summary\n",
      "[Couplet 1] L'amour est comme l'oiseau de Twitter On est bleu de lui, seulement pour 48 heures D'abord on s'affilie, ensuite on se follow On en devient fêlé, et on finit solo Prends garde à toi Et à tous ceux qui vous like Les sourires en plastique sont souvent des coups d’hashtag Prends garde à toi Ah les amis, les potes ou les followers Vous faites erreur, vous avez juste la cote [Refrain] Prends garde à toi Si tu t’aimes Garde à moi Si je m’aime Garde à nous, garde à eux, garde à vous Et puis chacun pour soi Et c’est comme ça qu’on s’aime, s’aime, s’aime, s’aime Comme ça, consomme, somme, somme, somme, somme Et c’est comme ça qu’on s’aime, s’aime, s’aime, s’aime Comme ça, consomme, somme, somme, somme, somme Et c’est comme ça qu’on s’aime, s’aime, s’aime, s’aime Comme ça consomme, somme, somme, somme, somme Et c’est comme ça qu’on s’aime, s’aime, s’aime, s’aime Comme ça consomme, somme, somme, somme, somme [Couplet 2] L’amour est enfant de la consommation Il voudra toujours toujours toujours plus de choix Voulez voulez-vous des sentiments tombés du camion ? L’offre et la demande pour unique et seule loi Prends garde à toi \"Mais j’en connais déjà les dangers, moi J’ai gardé mon ticket et, s’il le faut, j’vais l’échanger, moi Prends garde à toi Et, s’il le faut, j’irai m’venger moi Cet oiseau d’malheur, j’le mets en cage J’le fais chanter, moi\" [Refrain] Prends garde à toi Si tu t’aimes Garde à moi Si je m’aime Garde à nous, garde à eux, garde à vous Et puis chacun pour soi Et c’est comme ça qu’on s’aime, s’aime, s’aime, s’aime Comme ça, consomme, somme, somme, somme, somme Et c’est comme ça qu’on s’aime, s’aime, s’aime, s’aime Comme ça, consomme, somme, somme, somme, somme Et c’est comme ça qu’on s’aime, s’aime, s’aime, s’aime Comme ça consomme, somme, somme, somme, somme Et c’est comme ça qu’on s’aime, s’aime, s’aime, s’aime Comme ça consomme, somme, somme, somme, somme [Outro] Un jour t’achètes, un jour tu aimes Un jour tu jettes, mais un jour tu payes Un jour tu verras, on s’aimera Mais avant on crèvera tous, comme des rats\n",
      "\n",
      "\n",
      "\n",
      "/Racine Carrée/Formidable Lyrics Summary\n",
      "[Couplet 1] Oh bébé - oups ! - mademoiselle J'vais pas vous draguer, promis juré J'suis célibataire, depuis hier putain ! J't'ai pas insultée J'suis poli, courtois, et un peu fort bourré Et pour les mecs comme moi, vous avez autre chose à faire hein Vous m'auriez vu hier. [Couplet 2] Eh tu t'es regardé, tu t'crois beau Parce que tu t'es marié, mais c'est qu'un anneau Mec, t'emballe pas, elle va t'larguer comme elles le font chaque fois Et puis l'autre fille, tu lui en as parlé ? Si tu veux je lui dis, comme ça c'est réglé Et au p'tit aussi, enfin si vous en avez Attends trois ans, sept ans, et là vous verrez Si c'est. [Couplet 3] Et petite - oh pardon ! - petit Tu sais dans la vie y'a ni méchant ni gentil Si Maman est chiante, c'est qu'elle a peur d'être mamie Si Papa trompe Maman, c'est parce que Maman vieillit, tiens Pourquoi t'es tout rouge ? Et qu'est-ce que vous avez tous, à me regarder comme un singe, vous ? Ah oui vous êtes saints, vous ! Donnez-moi un bébé singe, il sera.\n",
      "\n",
      "\n",
      "\n"
     ]
    },
    {
     "name": "stdout",
     "output_type": "stream",
     "text": [
      "/Racine Carrée/Humain_a_leau Lyrics Summary\n",
      "[Couplet 1] Moi humain Papou, primaire et pas vous ? Si évoluer c'est ça, moi j'évolue pas pour un sou Moi parler des glaciers, si couler moi fâché Je saurai où te chercher quand comme moi tu seras perché Mais oui oui retiens-moi bien, piercing tout comme les tiens Le même trou qu'à la couche d'ozone, je te le ferai à l'étui pénien Mais vole, vole, voyage, fais-les tes reportages Mais pot de colle, crache loin dans votre bol de potage Dans votre monde de gotha, moi ? Je n'en voulais pas Évidemment que tu crois, mais on se tait quand on ne sait pas Ta bouche, gros bêta, écoute, la nature est là Ne vous étonnez pas, ça pue le coup d’état [Refrain] Humain à l'eau Humain à l'eau [Couplet 2] Mais petit modernisé, pourquoi tu me parles mal ? Je respecte les Pygmées, donc respecte les Maassaï Je respecte ton terrier, respecte mes terres Je respecte les insectes, donc respecte les mammifères Je te l'explique encore, moi devoir définir Toi pas comprendre, pas parler ou plutôt réfléchir ? Le pauvre il faut l'aider, son pote il faut l'aider Donc déléguer au délégué qui déléguera au délégué Imbécile tais-le, même si [tchip] tais-le Trop risqué d’être écouté, même à telle, telle ou telle heure C'est un euphémisme, oui je t’idéalise Et la culture de la bêtise, de ça oui je suis raciste [Refrain] Humain à l'eau Humain à l'eau [Couplet 3] Ça fait quatre fois qu'ton hélico passe et tout l'village a les boules Passez, passe mais faites gaffe, hun, si un jour il s'écroule Y'a pas d'gang ou de police, nan ce n'est pas la zone ici Les jaguars ne roulent pas, chez moi c'est l'Amazonie Ou c'était, pour ce qu'il en reste, mais garde les tes arbustes Touche encore un poil à ma forêt, ton pénis j'en ferai des bûches Toi et toutes tes perruches, tes Christophe Colombus Trop tard pour les excuses, au nom du déluge 3G, 4G ou déchets oubliés G8, G20 ou j'ai chié et j'ai bien caché Vous décidez de ça à notre insu, moi aussi j'aurais aimé être entendu Donc arrêtez de suite, vous êtes stupides ou quoi, les études ne donnent aucune science infuse [Refrain] Humain à l'eau Humain à l'eau\n",
      "\n",
      "\n",
      "\n",
      "/Racine Carrée/Moules_Frites Lyrics Summary\n",
      "[Intéressé(e) par l'explication des paroles de cette chanson ou d'autres ? Venez faire l'analyse des textes avec nous !] [Couplet 1] Sais-tu ce qu'il m'a dit Paulo Ou que son petit doigt lui dit, plutôt Quand ce dernier se lève, c'est qu'une coquille de rêve, est sortie de l'eau Et là il chante : [Refrain] Paulo aime les moules frites, sans frites et sans mayo Paulo aime les moules frites, sans frites et sans mayo Yo yo yo, yo yo yooo Yo yo yo, yo yo yooo [Couplet 2] Mais avant qu'il passe à table, il boit toujours un verre de blanc Pour oublier l'exécrable, sur et si âcre goût de l'océan Et il est tellement agile, Paulo, qu'il ne doit même pas supplier Et c'est à chaque fois si facile, mais cette fois-ci elle est un peu moins fragile que ce que Paulo imagine Mais du moment qu'elle criait : [Refrain] Paulo aime les moules frites, sans frites et sans mayo Paulo aime les moules frites, sans frites et sans mayo Yo yo yo, yo yo yooo Yo yo yo, yo yo yooo [Couplet 3] Mais il aurait du s'en méfier, Paulo Car on ne sait où elle s'est baignée, plus tôt Comme elle était contaminée, Paulo ne chantera plus Ou peut-être, une fois enterré, Paulo On chantera tous : [Outro] Paulo aimait les moules frites, sans frites et sans mayo' À toi Paulooo Paulo aimait les moules frites, sans frites et sans mayo' On chantera tous pour toi Yo yo yo, yo yo yooo Yo yo yo, yo yo yooo\n",
      "\n",
      "\n",
      "\n",
      "/Racine Carrée/Papaoutai Lyrics Summary\n",
      "[Couplet 1] Dites-moi d'où il vient Enfin je saurai où je vais Maman dit que lorsqu'on cherche bien On finit toujours par trouver Elle dit qu'il n'est jamais très loin Qu'il part très souvent travailler Maman dit \"travailler c'est bien\" Bien mieux qu'être mal accompagné Pas vrai ? Sans même devoir lui parler Il sait ce qui ne va pas Ah sacré papa Dis-moi où es-tu caché ? Ça doit, faire au moins mille fois que j'ai Compté mes doigts Hey ! [Couplet 2] Quoi, qu'on y croit ou pas Y aura bien un jour où on n'y croira plus Un jour ou l'autre on sera tous papa Et d'un jour à l'autre on aura disparu Serons-nous détestables ? Ah dites-nous qui, tiens Tout le monde sait comment on fait des bébés Mais personne sait comment on fait des papas Monsieur Je-sais-tout en aurait hérité, c'est ça Faut l'sucer d'son pouce ou quoi ? Dites-nous où c'est caché, ça doit Faire au moins mille fois qu'on a Bouffé nos doigts Hey ! Sans même devoir lui parler Il sait ce qui ne va pas Ah sacré papa Dis-moi où es-tu caché ? Ça doit, faire au moins mille fois que j'ai Compté mes doigts Hey Où est ton papa ? Sans même devoir lui parler Il sait ce qui ne va pas Ah sacré papa Dis-moi où es-tu caché ? Ça doit, faire au moins mille fois que j'ai Compté mes doigts Hey !\n",
      "\n",
      "\n",
      "\n",
      "/Racine Carrée/Quand_c'est Lyrics Summary\n",
      "[Couplet 1] Mais oui on se connait bien T'as même voulu t'faire ma mère hein T'as commencé par ses seins Et puis du poumon à mon père Tu t'en souviens ? [Refrain] Cancer, cancer, dis-moi quand c'est ? Cancer, cancer, oh dis-moi quand c'est ? [Couplet 2] Et tu aimes les petits enfants Décidément, rien ne t'arrête toi Et arrête de faire ton innocent Sur les paquets de cigarettes \"Fumer tue\", tu m'étonnes Mais tu m'aides [Refrain bis] Cancer, cancer, dis-moi quand c'est ? [Pont] Quand c'est, quand c'est Que tu cesses tes avances ? Quand c'est, quand c'est Que tu pars en vacances ? Quand c'est, quand c'est Quand est-ce que tu y penses ? Ça nous fera des vacances [Outro] Qui est le prochain ?\n",
      "\n",
      "\n",
      "\n",
      "/Racine Carrée/Sommeil Lyrics Summary\n",
      "[Couplet 1] Tu pourras m'dire tout c'que tu veux Sous tes fous rires et tes grands airs C'est pas la peine Tu peux mentir à qui tu veux Tu souris trop pour être heureux Tu m'fais d'la peine J't'aime quand même moi J'suis pas tes potes Ni ton boss ou tes collègues moi Mais tu m'prends vraiment pour un con Tu crois qu'tu m'endors Mais même derrière ton masque Tes cernes en parlent encore [Refrain] Tu n'as pas sommeil Le froid, la soif, la dalle, t'as tout Mais tu n'as pas sommeil Ta mère, ta femme, ta fille, t'as nous Mais tu n'as pas sommeil Ton toit, ton taf, ta caisse, tes sous Mais tu n'as pas sommeil La vie, santé, bonheur Avoue que tu n'as pas sommeil [Couplet 2] Si on sortait prendre l'air Au lieu d'me prendre pour de la merde Prends-moi la main Sinon à quoi on sert nous ? À part faire la fête Mec j'l'ai assez faite moi On s'voit demain [Pont] Et si je compte et je compterai pour toi Je te conterai mes histoires Et je compterai les moutons, pour toi Et si je compte et je compterai pour toi Je te conterai mes histoires Et je compterai les moutons [Refrain bis] Mais tu n'as pas sommeil Le froid, la soif, la dalle, t'as tout Mais tu n'as pas sommeil Ta mère, ta femme, ta fille, y a nous Mais tu n'as pas sommeil Ton toit, ton taf, ta caisse, tes sous Mais tu n'as pas sommeil La vie, santé, bonheur Avoue que tu n'as pas sommeil Le froid, la soif, la dalle, t'as tout Mais tu n'as pas sommeil Ta mère, ta femme, ta fille, y a nous Mais tu n'as pas sommeil Ton toit, ton taf, ta caisse, tes sous Mais tu n'as pas sommeil La vie, santé, bonheur Avoue que tu n'as pas sommeil [Outro] Le froid, la soif, la dalle, t'as tout Mais tu n'as pas sommeil Ta mère, ta femme, ta fille, y a nous Mais tu n'as pas sommeil Ton toit, ton taf, ta caisse, tes sous Mais tu n'as pas sommeil La vie, santé, bonheur Avoue\n",
      "\n",
      "\n",
      "\n",
      "/Racine Carrée/Ta_fete Lyrics Summary\n",
      "Il est l'heure, fini l'heure de danser Danse, t'inquiète pas tu vas danser Balance-toi, mais tu vas te faire balancer Défonce-toi, mais tu vas te faire défoncer [Refrain] Tu aimerais faire ta fête Ta mère veut te la faire aussi, ta fête Le juge voudrait te faire ta fête Tout le monde te fera aussi ta fête [Couplet 2] Tu sors trop, du moins c'est ce qu'ils disent Ils parlent trop, c'est pourquoi tes oreilles sifflent À qui la faute ? C'est la faute à autrui, hein ? C'est les autres, toi tu n'as qu'une seule envie [Refrain] Tu aimerais faire ta fête Ta mère veut te la faire aussi, ta fête Le juge voudrait te faire ta fête Tout le monde te fera aussi ta fête Tu aimerais faire ta fête Ta mère veut te la faire aussi, ta fête Le juge voudrait te faire ta fête Tout le monde te fera aussi ta fête\n",
      "\n",
      "\n",
      "\n"
     ]
    },
    {
     "name": "stdout",
     "output_type": "stream",
     "text": [
      "/Racine Carrée/Tous_les_memes Lyrics Summary\n",
      "[Couplet 1] Vous les hommes êtes tous les mêmes Macho mais cheap Bande de mauviettes infidèles Si prévisibles, non je ne suis pas certaine, que tu m'mérites Z'avez d'la chance qu'on vous aime Dis-moi \"Merci\" [Refrain] Rendez-vous, rendez-vous, rendez-vous au prochain règlement Rendez-vous, rendez-vous, rendez-vous sûrement aux prochaines règles [Couplet 2] Cette fois c'était la dernière Tu peux croire que c'est qu'une crise Mate une dernière fois mon derrière, il est à côté de mes valises Tu diras au revoir à ta mère, elle qui t'idéalise Tu n'vois même pas tout c'que tu perds Avec une autre ce serait pire Quoi toi aussi tu veux finir maintenant? toi t'y pensais [Refrain] Rendez-vous, rendez-vous, rendez-vous au prochain règlement Rendez-vous, rendez-vous, rendez-vous sûrement aux prochaines règles [Couplet 3] Facile à dire, je suis gnangnan Et que j'aime trop les bla bla bla Mais non non non, c'est important Ce que t'appelles les ragnagnas Tu sais la vie c'est des enfants Mais comme toujours c'est pas l'bon moment Ah oui pour les faire là tu es présent Mais pour les élever y'aura qu'des absents [Pont] Lorsque je n'serais plus belle Ou du moins au naturel Arrête je sais que tu mens Il n'y a que Kate Moss qui est éternelle Moche ou bête, c'est jamais bon! Bête ou belle, c'est jamais bon! Belle ou moi, c'est jamais bon! [Refrain] Rendez-vous, rendez-vous, rendez-vous au prochain règlement Rendez-vous, rendez-vous, rendez-vous sûrement aux prochaines règles\n",
      "\n",
      "\n",
      "\n"
     ]
    }
   ],
   "source": [
    "from sumy.parsers.plaintext import PlaintextParser\n",
    "from sumy.summarizers.lsa import LsaSummarizer\n",
    "from sumy.nlp.tokenizers import Tokenizer\n",
    "from sumy.nlp.stemmers import Stemmer\n",
    "from sumy.utils import get_stop_words\n",
    "\n",
    "lang = 'french'\n",
    "count = 5\n",
    "\n",
    "for i in range(len(corpus)):\n",
    "    new_string = corpus[i].replace('.', '. ').strip()\n",
    "    lsa = LsaSummarizer(Stemmer(lang))\n",
    "    lsa.stop_words = get_stop_words(lang)\n",
    "    parser = PlaintextParser.from_string(new_string, Tokenizer(lang))\n",
    "    lsa_summary = lsa(parser.document, count)\n",
    "    lsa_s = [str(sent) for sent in lsa_summary]\n",
    "    summary = ' '.join(lsa_s)\n",
    "    print(txt_files[i][:-4] + \" Résumé des paroles\")\n",
    "    print(summary)\n",
    "    print(\"\")\n",
    "    print(\"\")\n",
    "    print(\"\")\n",
    "    "
   ]
  },
  {
   "cell_type": "markdown",
   "metadata": {},
   "source": [
    "![SegmentLocal](img/4.gif \"segment\")"
   ]
  },
  {
   "cell_type": "code",
   "execution_count": null,
   "metadata": {},
   "outputs": [],
   "source": []
  }
 ],
 "metadata": {
  "kernelspec": {
   "display_name": "Python 3",
   "language": "python",
   "name": "python3"
  },
  "language_info": {
   "codemirror_mode": {
    "name": "ipython",
    "version": 3
   },
   "file_extension": ".py",
   "mimetype": "text/x-python",
   "name": "python",
   "nbconvert_exporter": "python",
   "pygments_lexer": "ipython3",
   "version": "3.7.6"
  }
 },
 "nbformat": 4,
 "nbformat_minor": 4
}
